{
 "cells": [
  {
   "cell_type": "markdown",
   "metadata": {},
   "source": [
    "# 1. Which matches a word containing vowels in it (a,ı,o,u,e,ə,i,ö,ü)."
   ]
  },
  {
   "cell_type": "code",
   "execution_count": 41,
   "metadata": {},
   "outputs": [],
   "source": [
    "import re"
   ]
  },
  {
   "cell_type": "code",
   "execution_count": 42,
   "metadata": {},
   "outputs": [
    {
     "name": "stdout",
     "output_type": "stream",
     "text": [
      "['apple', 'heyyou', 'iriska', 'ürək', 'salam', 'tyüh']\n"
     ]
    }
   ],
   "source": [
    "pattern = r\"\\w*[aıoueəiöü]\\w*\"\n",
    "test_string = \"apple, cmmmmmbn, heyyou, cld, iriska, cmd, ürək, salam, tyüh\"\n",
    "result = re.findall(pattern, test_string)\n",
    "print(result)\n"
   ]
  },
  {
   "cell_type": "markdown",
   "metadata": {},
   "source": [
    "# 2. Which matches a word containing vowels not at the start or end of the word \n",
    "# (a,ı,o,u,e,ə,i,ö,ü)."
   ]
  },
  {
   "cell_type": "code",
   "execution_count": 43,
   "metadata": {},
   "outputs": [
    {
     "name": "stdout",
     "output_type": "stream",
     "text": [
      "['cmmmmmbn', 'cld', 'cmd', 'salam', 'tyüh']\n"
     ]
    }
   ],
   "source": [
    "test_string = \"apple, cmmmmmbn, heyyou, cld, iriska, cmd, ürək, salam, tyüh\"\n",
    "\n",
    "pattern = r'\\b[^(aıoueəiöü\\s)]\\w*[^(aıoueəiöü\\s)]\\b'\n",
    "matches = re.findall(pattern, test_string)\n",
    "print(matches)"
   ]
  },
  {
   "cell_type": "markdown",
   "metadata": {},
   "source": [
    "# 3. Checks for a number at the end of a given string"
   ]
  },
  {
   "cell_type": "code",
   "execution_count": 44,
   "metadata": {},
   "outputs": [
    {
     "name": "stdout",
     "output_type": "stream",
     "text": [
      "['445']\n"
     ]
    }
   ],
   "source": [
    "test_string = \"Laman16 and Laman22 but not JustAliyeva445\"\n",
    "# pattern = r'\\d+\\b'\n",
    "pattern = r'\\d+$'\n",
    "result = re.findall(pattern, test_string)\n",
    "print(result)"
   ]
  },
  {
   "cell_type": "markdown",
   "metadata": {},
   "source": [
    "# 4. Which matches a word at the end of string, with optional question mark and\n",
    "# exclamation point."
   ]
  },
  {
   "cell_type": "code",
   "execution_count": 45,
   "metadata": {},
   "outputs": [
    {
     "name": "stdout",
     "output_type": "stream",
     "text": [
      "Laman?\n"
     ]
    }
   ],
   "source": [
    "test_string = \"Hi! My name is Laman?\"\n",
    "pattern = r\"\\b\\w+[\\?\\!]$\"\n",
    "match = re.match(r'.*\\b(\\w+[?!])$', test_string)\n",
    "\n",
    "if match:\n",
    "    print(match.group(1))\n",
    "else:\n",
    "    print(\"No match\")\n"
   ]
  },
  {
   "cell_type": "markdown",
   "metadata": {},
   "source": [
    "# 5. Replaces whitespaces with a tab and vice versa."
   ]
  },
  {
   "cell_type": "code",
   "execution_count": 46,
   "metadata": {},
   "outputs": [
    {
     "name": "stdout",
     "output_type": "stream",
     "text": [
      "My\tname\tis\tLaman\tHeeeey-Llama\n",
      "My name is Laman Heeeey-Llama\n"
     ]
    }
   ],
   "source": [
    "test_string = \"My\\tname\\tis\\tLaman\\tHeeeey-Llama\"\n",
    "\n",
    "result = re.sub(' ', '\\t', test_string)\n",
    "print(result)\n",
    "\n",
    "result = re.sub('\\t', ' ', test_string)\n",
    "print(result)"
   ]
  },
  {
   "cell_type": "markdown",
   "metadata": {},
   "source": [
    "# 6. Finds all words starting with 'ə' or 'ü' in a given string."
   ]
  },
  {
   "cell_type": "code",
   "execution_count": 47,
   "metadata": {},
   "outputs": [
    {
     "name": "stdout",
     "output_type": "stream",
     "text": [
      "['ərik', 'üzüm', 'ürək']\n"
     ]
    }
   ],
   "source": [
    "# test_string = [\"ərik\", \"salam\", \"sağol\", \"üzüm\", \"ürək\"]\n",
    "# pattern = \"^ə|ü\"\n",
    "# matches = [word for word in test_string if re.findall(pattern, word)]\n",
    "\n",
    "# for i in matches:\n",
    "#     print(i)\n",
    "\n",
    "test_string = \"salam, ərik, sağol, üzüm, it, ürək\"\n",
    "pattern = r'\\b[əü]\\w*'\n",
    "matches = re.findall(pattern, test_string)\n",
    "print(matches)\n"
   ]
  },
  {
   "cell_type": "markdown",
   "metadata": {},
   "source": [
    "# 7. Removes all whitespaces from a string."
   ]
  },
  {
   "cell_type": "code",
   "execution_count": 48,
   "metadata": {},
   "outputs": [
    {
     "name": "stdout",
     "output_type": "stream",
     "text": [
      "MynameisAliyevaLaman\n"
     ]
    }
   ],
   "source": [
    "test_string = \"My name is Aliyeva Laman\"\n",
    "res = re.sub(' ', '', test_string)\n",
    "print(res)"
   ]
  },
  {
   "cell_type": "markdown",
   "metadata": {},
   "source": [
    "# 8. Finds all words which have more than 4 characters in a string."
   ]
  },
  {
   "cell_type": "code",
   "execution_count": 49,
   "metadata": {},
   "outputs": [
    {
     "name": "stdout",
     "output_type": "stream",
     "text": [
      "['Aliyeva', 'Laman', 'deeeesu']\n"
     ]
    }
   ],
   "source": [
    "test_string = \"My name is Aliyeva Laman deeeesu\"\n",
    "pattern = '[a-zA-Z]{5,}'\n",
    "result = re.findall(pattern, test_string)\n",
    "print(result)\n"
   ]
  },
  {
   "cell_type": "markdown",
   "metadata": {},
   "source": [
    "# 9. Inserts spaces between words starting with capital letters.\n",
    "# Original string: PythonProgrammingLanguage\n",
    "# Expected output: Python Programming Language"
   ]
  },
  {
   "cell_type": "code",
   "execution_count": 50,
   "metadata": {},
   "outputs": [
    {
     "name": "stdout",
     "output_type": "stream",
     "text": [
      " Python Programming Language\n"
     ]
    }
   ],
   "source": [
    "original_string = \"PythonProgrammingLanguage\"\n",
    "pattern = r'([A-Z])'\n",
    "\n",
    "result = re.sub(pattern, r' \\1', original_string)\n",
    "print(result)"
   ]
  }
 ],
 "metadata": {
  "kernelspec": {
   "display_name": "Python 3",
   "language": "python",
   "name": "python3"
  },
  "language_info": {
   "codemirror_mode": {
    "name": "ipython",
    "version": 3
   },
   "file_extension": ".py",
   "mimetype": "text/x-python",
   "name": "python",
   "nbconvert_exporter": "python",
   "pygments_lexer": "ipython3",
   "version": "3.12.3"
  }
 },
 "nbformat": 4,
 "nbformat_minor": 2
}
