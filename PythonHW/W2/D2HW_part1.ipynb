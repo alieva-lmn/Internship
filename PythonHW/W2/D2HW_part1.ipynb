{
 "cells": [
  {
   "cell_type": "code",
   "execution_count": 52,
   "metadata": {},
   "outputs": [],
   "source": [
    "import numpy as np"
   ]
  },
  {
   "cell_type": "markdown",
   "metadata": {},
   "source": [
    "# 1. Create a vector with values ranging from 15 to 55 and print all values except the first and last."
   ]
  },
  {
   "cell_type": "code",
   "execution_count": 53,
   "metadata": {},
   "outputs": [
    {
     "name": "stdout",
     "output_type": "stream",
     "text": [
      "[16 17 18 19 20 21 22 23 24 25 26 27 28 29 30 31 32 33 34 35 36 37 38 39\n",
      " 40 41 42 43 44 45 46 47 48 49 50 51 52 53 54]\n"
     ]
    }
   ],
   "source": [
    "arr = np.arange(15,56)\n",
    "print(arr[1:-1])"
   ]
  },
  {
   "cell_type": "markdown",
   "metadata": {},
   "source": [
    "# 2. Create a 3X4 array using np.full()."
   ]
  },
  {
   "cell_type": "code",
   "execution_count": 54,
   "metadata": {},
   "outputs": [
    {
     "data": {
      "text/plain": [
       "array([[8, 8, 8, 8],\n",
       "       [8, 8, 8, 8],\n",
       "       [8, 8, 8, 8]])"
      ]
     },
     "execution_count": 54,
     "metadata": {},
     "output_type": "execute_result"
    }
   ],
   "source": [
    "np.full((3,4), 8)"
   ]
  },
  {
   "cell_type": "markdown",
   "metadata": {},
   "source": [
    "# 3. Create a 3x3 matrix filled with values from 10 to 18. Use np.arange() and np.reshape()."
   ]
  },
  {
   "cell_type": "code",
   "execution_count": 55,
   "metadata": {},
   "outputs": [
    {
     "data": {
      "text/plain": [
       "array([[10, 11, 12],\n",
       "       [13, 14, 15],\n",
       "       [16, 17, 18]])"
      ]
     },
     "execution_count": 55,
     "metadata": {},
     "output_type": "execute_result"
    }
   ],
   "source": [
    "np.arange(10,19).reshape(3,3)"
   ]
  },
  {
   "cell_type": "markdown",
   "metadata": {},
   "source": [
    "# 4. Create a 5x5 zero matrix with elements on the main diagonal equal to 1, 2, 3, 4, 5 using np.diag()."
   ]
  },
  {
   "cell_type": "code",
   "execution_count": 56,
   "metadata": {},
   "outputs": [
    {
     "data": {
      "text/plain": [
       "array([[1, 0, 0, 0],\n",
       "       [0, 2, 0, 0],\n",
       "       [0, 0, 3, 0],\n",
       "       [0, 0, 0, 4]])"
      ]
     },
     "execution_count": 56,
     "metadata": {},
     "output_type": "execute_result"
    }
   ],
   "source": [
    "np.zeros(25, int).reshape(5,5)\n",
    "\n",
    "array = np.array([1, 2, 3, 4])\n",
    "diag_matrix = np.diag(array)\n",
    "diag_matrix"
   ]
  },
  {
   "cell_type": "markdown",
   "metadata": {},
   "source": [
    "# 5. Create a null vector of size 10 using np.zeros() and update sixth value to 11."
   ]
  },
  {
   "cell_type": "code",
   "execution_count": 57,
   "metadata": {},
   "outputs": [
    {
     "data": {
      "text/plain": [
       "array([ 0,  0,  0,  0,  0, 11,  0,  0,  0,  0])"
      ]
     },
     "execution_count": 57,
     "metadata": {},
     "output_type": "execute_result"
    }
   ],
   "source": [
    "arr = np.zeros(10, int)\n",
    "arr[5] = 11\n",
    "arr"
   ]
  },
  {
   "cell_type": "markdown",
   "metadata": {},
   "source": [
    "# 6. Convert an array to a float type using np.asfarray()."
   ]
  },
  {
   "cell_type": "code",
   "execution_count": 58,
   "metadata": {},
   "outputs": [
    {
     "data": {
      "text/plain": [
       "array([ 0.,  0.,  0.,  0.,  0., 11.,  0.,  0.,  0.,  0.])"
      ]
     },
     "execution_count": 58,
     "metadata": {},
     "output_type": "execute_result"
    }
   ],
   "source": [
    "float_arr = np.asfarray(arr)\n",
    "float_arr"
   ]
  },
  {
   "cell_type": "markdown",
   "metadata": {},
   "source": [
    "# 7. Swap columns in a given array. Such as:"
   ]
  },
  {
   "cell_type": "code",
   "execution_count": 59,
   "metadata": {},
   "outputs": [
    {
     "name": "stdout",
     "output_type": "stream",
     "text": [
      "Before swap:\n",
      "\n",
      " [[ 0  1  2  3]\n",
      " [ 4  5  6  7]\n",
      " [ 8  9 10 11]]\n",
      "\n",
      "After swap:\n",
      "\n",
      " [[ 3  2  1  0]\n",
      " [ 7  6  5  4]\n",
      " [11 10  9  8]]\n"
     ]
    }
   ],
   "source": [
    "arr = np.arange(0,12).reshape(3,4)\n",
    "print(\"Before swap:\\n\\n\", arr)\n",
    "\n",
    "arr[:, :] = arr[:, ::-1]\n",
    "print(\"\\nAfter swap:\\n\\n\", arr)\n"
   ]
  },
  {
   "cell_type": "markdown",
   "metadata": {},
   "source": [
    "# 8. Capitalize the first letter, lowercase, uppercase, swapcase, title-case of all the elements of a given array. Use np.char.capitalize(), np.char.lower(), np.char.upper(), np.char.swapcase(), np.char.title()."
   ]
  },
  {
   "cell_type": "code",
   "execution_count": 60,
   "metadata": {},
   "outputs": [
    {
     "name": "stdout",
     "output_type": "stream",
     "text": [
      "Original Array: ['hello' 'world' 'this' 'is' 'a' 'test']\n",
      "Capitalized Array: ['Hello' 'World' 'This' 'Is' 'A' 'Test']\n",
      "Lowercase Array: ['hello' 'world' 'this' 'is' 'a' 'test']\n",
      "Uppercase Array: ['HELLO' 'WORLD' 'THIS' 'IS' 'A' 'TEST']\n",
      "Swapcase Array: ['HELLO' 'WORLD' 'THIS' 'IS' 'A' 'TEST']\n",
      "Title-case Array: ['Hello' 'World' 'This' 'Is' 'A' 'Test']\n"
     ]
    }
   ],
   "source": [
    "given_array = np.array(['hello', 'world', 'this', 'is', 'a', 'test'])\n",
    "\n",
    "capitalized_array = np.char.capitalize(given_array)\n",
    "lowercase_array = np.char.lower(given_array)\n",
    "uppercase_array = np.char.upper(given_array)\n",
    "swapcase_array = np.char.swapcase(given_array)\n",
    "titlecase_array = np.char.title(given_array)\n",
    "\n",
    "print(\"Original Array:\", given_array)\n",
    "print(\"Capitalized Array:\", capitalized_array)\n",
    "print(\"Lowercase Array:\", lowercase_array)\n",
    "print(\"Uppercase Array:\", uppercase_array)\n",
    "print(\"Swapcase Array:\", swapcase_array)\n",
    "print(\"Title-case Array:\", titlecase_array)\n"
   ]
  },
  {
   "cell_type": "markdown",
   "metadata": {},
   "source": [
    "# 9. Get the dates of yesterday, today and tomorrow using np.datetime64() and np.timedelta64()."
   ]
  },
  {
   "cell_type": "code",
   "execution_count": 61,
   "metadata": {},
   "outputs": [
    {
     "name": "stdout",
     "output_type": "stream",
     "text": [
      "Yesterday: 2024-05-28\n",
      "Today: 2024-05-29\n",
      "Tomorrow: 2024-05-30\n"
     ]
    }
   ],
   "source": [
    "today = np.datetime64('today')\n",
    "\n",
    "yesterday = today - np.timedelta64(1, 'D')\n",
    "tomorrow = today + np.timedelta64(1, 'D')\n",
    "\n",
    "print(\"Yesterday:\", yesterday)\n",
    "print(\"Today:\", today)\n",
    "print(\"Tomorrow:\", tomorrow)\n"
   ]
  },
  {
   "cell_type": "markdown",
   "metadata": {},
   "source": [
    "# 10.Append values to the end of an array using np.append(). Original array: [10, 20, 30] Expected Output: [10 20 30 40 50 60 70 80 90]"
   ]
  },
  {
   "cell_type": "code",
   "execution_count": 62,
   "metadata": {},
   "outputs": [
    {
     "data": {
      "text/plain": [
       "array([10, 20, 30, 40, 50, 60, 70, 80, 90])"
      ]
     },
     "execution_count": 62,
     "metadata": {},
     "output_type": "execute_result"
    }
   ],
   "source": [
    "arr = np.array([10, 20, 30])\n",
    "arr2 = np.array([40, 50, 60, 70, 80, 90])\n",
    "\n",
    "arr = np.append(arr, arr2)\n",
    "arr"
   ]
  }
 ],
 "metadata": {
  "kernelspec": {
   "display_name": "Python 3",
   "language": "python",
   "name": "python3"
  },
  "language_info": {
   "codemirror_mode": {
    "name": "ipython",
    "version": 3
   },
   "file_extension": ".py",
   "mimetype": "text/x-python",
   "name": "python",
   "nbconvert_exporter": "python",
   "pygments_lexer": "ipython3",
   "version": "3.12.3"
  }
 },
 "nbformat": 4,
 "nbformat_minor": 2
}
