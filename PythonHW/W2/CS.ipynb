{
 "cells": [
  {
   "cell_type": "code",
   "execution_count": 34,
   "metadata": {},
   "outputs": [
    {
     "data": {
      "text/plain": [
       "['(123) 456-7890']"
      ]
     },
     "execution_count": 34,
     "metadata": {},
     "output_type": "execute_result"
    }
   ],
   "source": [
    "import re\n",
    "\n",
    "#1 \n",
    "\n",
    "Nameage = \"\\\n",
    "Janice is 22 and Theon is 33 \\\n",
    "Gabriel is 44 and Joey is 21\\\n",
    "\"\n",
    "\n",
    "result = re.findall(r'([A-Za-z]+)\\sis\\s(\\d{1,3})', Nameage)\n",
    "dict(result)\n",
    "\n",
    "result = re.finditer(r'(?P<name>[A-Za-z]+)\\sis\\s(?P<age>\\d{1,3})', Nameage)\n",
    "print([i.groupdict() for i in result])\n",
    "\n",
    "\n",
    "#2 \n",
    "\n",
    "mail = \"alievalmn@gmail.com\"\n",
    "\n",
    "result = re.findall(r'[A-Za-z0-9]{3,10}@[A-Za-z0-9]{2,10}.[A-Za-z0-9]{2,4}', mail)\n",
    "\n",
    "if result:\n",
    "    print(\"Matched\")\n",
    "else:\n",
    "    print(\"Unmatched\")\n",
    "\n",
    "#3\n",
    "\n",
    "\n",
    "pattern = r'\\(\\d{3}\\) \\d+-\\d+'\n",
    "number = '(123) 456-7890'\n",
    "result = re.findall(pattern, number)\n",
    "result \n"
   ]
  }
 ],
 "metadata": {
  "kernelspec": {
   "display_name": "Python 3",
   "language": "python",
   "name": "python3"
  },
  "language_info": {
   "codemirror_mode": {
    "name": "ipython",
    "version": 3
   },
   "file_extension": ".py",
   "mimetype": "text/x-python",
   "name": "python",
   "nbconvert_exporter": "python",
   "pygments_lexer": "ipython3",
   "version": "3.11.9"
  }
 },
 "nbformat": 4,
 "nbformat_minor": 2
}
