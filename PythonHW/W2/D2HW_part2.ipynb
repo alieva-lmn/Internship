{
 "cells": [
  {
   "cell_type": "code",
   "execution_count": 13,
   "metadata": {},
   "outputs": [],
   "source": [
    "import pandas as pd\n",
    "import matplotlib.pyplot as plt\n",
    "import seaborn as sns\n",
    "\n",
    "cars = pd.read_excel('C:\\\\Users\\\\aliev\\\\OneDrive\\\\Desktop\\\\cars.xlsx')\n",
    "\n",
    "\n",
    "# 1. Show relationship between highway and city miles per gallon.\n",
    "# a. Use scatter in matplotlib.\n",
    "# b. Interpret how are variables correlated according to scatter.\n",
    "# 2. Show distributions and scatters between all variables. While hue equals to type of\n",
    "# drive train which variables have the lowest and the highest correlation?\n",
    "# Find according to scatterplot.\n",
    "# 3. Which type of car is most frequent in dataset? Show by using countplot.\n",
    "# 4. Display number of cylinders for each drive train in bar chart. Which drive train is\n",
    "# the most frequent?\n",
    "# 5. Visualize engine displacement by each class using boxplot. Do the same thing in\n",
    "# violinplot."
   ]
  },
  {
   "cell_type": "code",
   "execution_count": null,
   "metadata": {},
   "outputs": [],
   "source": []
  }
 ],
 "metadata": {
  "kernelspec": {
   "display_name": "Python 3",
   "language": "python",
   "name": "python3"
  },
  "language_info": {
   "codemirror_mode": {
    "name": "ipython",
    "version": 3
   },
   "file_extension": ".py",
   "mimetype": "text/x-python",
   "name": "python",
   "nbconvert_exporter": "python",
   "pygments_lexer": "ipython3",
   "version": "3.12.3"
  }
 },
 "nbformat": 4,
 "nbformat_minor": 2
}
