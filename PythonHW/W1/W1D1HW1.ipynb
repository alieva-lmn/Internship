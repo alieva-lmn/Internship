{
 "cells": [
  {
   "cell_type": "code",
   "execution_count": 1,
   "metadata": {},
   "outputs": [
    {
     "data": {
      "text/plain": [
       "int"
      ]
     },
     "execution_count": 1,
     "metadata": {},
     "output_type": "execute_result"
    }
   ],
   "source": [
    "#1. Create variable age equal to 32 and check its type.\n",
    "\n",
    "age = 32\n",
    "type(age)"
   ]
  },
  {
   "cell_type": "code",
   "execution_count": 2,
   "metadata": {},
   "outputs": [
    {
     "data": {
      "text/plain": [
       "float"
      ]
     },
     "execution_count": 2,
     "metadata": {},
     "output_type": "execute_result"
    }
   ],
   "source": [
    "#2. Create variable height equal to 1.85 and check its type.\n",
    "\n",
    "height = 1.85\n",
    "type(height)"
   ]
  },
  {
   "cell_type": "code",
   "execution_count": 3,
   "metadata": {},
   "outputs": [],
   "source": [
    "#3. Create variables name and surname. Define them as 'your_name' and 'your_surname'.\n",
    "\n",
    "name = \"Laman\"\n",
    "surname = 'Aliyeva'"
   ]
  },
  {
   "cell_type": "code",
   "execution_count": 4,
   "metadata": {},
   "outputs": [
    {
     "data": {
      "text/plain": [
       "'LamanAliyeva'"
      ]
     },
     "execution_count": 4,
     "metadata": {},
     "output_type": "execute_result"
    }
   ],
   "source": [
    "#4. Sum up name and surname variables. Define as ID.\n",
    "\n",
    "id = name + surname\n",
    "id"
   ]
  },
  {
   "cell_type": "code",
   "execution_count": 5,
   "metadata": {},
   "outputs": [
    {
     "data": {
      "text/plain": [
       "'n'"
      ]
     },
     "execution_count": 5,
     "metadata": {},
     "output_type": "execute_result"
    }
   ],
   "source": [
    "#5. Use indexing. Find last letter of 'your_name'.\n",
    "\n",
    "last_letter = name[-1]\n",
    "last_letter"
   ]
  },
  {
   "cell_type": "code",
   "execution_count": 6,
   "metadata": {},
   "outputs": [
    {
     "data": {
      "text/plain": [
       "'li'"
      ]
     },
     "execution_count": 6,
     "metadata": {},
     "output_type": "execute_result"
    }
   ],
   "source": [
    "# 6. Use slicing. Find 2nd and 3rd letters of 'your_surname'.\n",
    "\n",
    "letters = surname[1:3]\n",
    "letters"
   ]
  },
  {
   "cell_type": "code",
   "execution_count": 7,
   "metadata": {},
   "outputs": [
    {
     "data": {
      "text/plain": [
       "[3, 4, 5, 6, 7]"
      ]
     },
     "execution_count": 7,
     "metadata": {},
     "output_type": "execute_result"
    }
   ],
   "source": [
    "#7. Create list as new_list. Include 3 4 5 6 7 integers.\n",
    "\n",
    "new_list = [*range(3, 8)]\n",
    "new_list"
   ]
  },
  {
   "cell_type": "code",
   "execution_count": 8,
   "metadata": {},
   "outputs": [
    {
     "data": {
      "text/plain": [
       "[3, 4, 6, 7]"
      ]
     },
     "execution_count": 8,
     "metadata": {},
     "output_type": "execute_result"
    }
   ],
   "source": [
    "#8. Remove 5 from new_list.\n",
    "\n",
    "new_list.remove(5)\n",
    "new_list"
   ]
  },
  {
   "cell_type": "code",
   "execution_count": 9,
   "metadata": {},
   "outputs": [
    {
     "data": {
      "text/plain": [
       "[3, 6, 7]"
      ]
     },
     "execution_count": 9,
     "metadata": {},
     "output_type": "execute_result"
    }
   ],
   "source": [
    "#9. Delete 2nd value of new_list.\n",
    "\n",
    "new_list.pop(1)\n",
    "new_list"
   ]
  },
  {
   "cell_type": "code",
   "execution_count": 10,
   "metadata": {},
   "outputs": [
    {
     "data": {
      "text/plain": [
       "(3, 4, 5, 6, 7)"
      ]
     },
     "execution_count": 10,
     "metadata": {},
     "output_type": "execute_result"
    }
   ],
   "source": [
    "#10. Create tuple as new_tuple. Include 3 4 5 6 7 integers.\n",
    "\n",
    "new_tuple = (3, 4, 5, 6, 7)\n",
    "new_tuple"
   ]
  },
  {
   "cell_type": "code",
   "execution_count": 11,
   "metadata": {},
   "outputs": [
    {
     "data": {
      "text/plain": [
       "tuple"
      ]
     },
     "execution_count": 11,
     "metadata": {},
     "output_type": "execute_result"
    }
   ],
   "source": [
    "#11. Change 4 in new_tuple to 8.\n",
    "\n",
    "mylist = list(new_tuple)\n",
    "index = mylist.index(4)\n",
    "mylist[index] = 8\n",
    "new_tuple = tuple(mylist)\n",
    "type(new_tuple)"
   ]
  },
  {
   "cell_type": "code",
   "execution_count": 12,
   "metadata": {},
   "outputs": [
    {
     "data": {
      "text/plain": [
       "'Number is less than 17'"
      ]
     },
     "execution_count": 12,
     "metadata": {},
     "output_type": "execute_result"
    }
   ],
   "source": [
    "# Difficult exercises\n",
    "\n",
    "# 1. Find the difference between age and 25, \n",
    "# if the number is greater than 17 return the square of the difference.\n",
    "\n",
    "def find_difference(age):\n",
    "    diff = age - 25\n",
    "    if diff > 17:\n",
    "        return diff ** 2\n",
    "    else:\n",
    "        return 'Number is less than 17'\n",
    "\n",
    "find_difference(age)"
   ]
  },
  {
   "cell_type": "code",
   "execution_count": 13,
   "metadata": {},
   "outputs": [
    {
     "data": {
      "text/plain": [
       "'Number is positive'"
      ]
     },
     "execution_count": 13,
     "metadata": {},
     "output_type": "execute_result"
    }
   ],
   "source": [
    "# 2. Write a Python function to check number is positive, negative or zero.\n",
    "\n",
    "def check_num():\n",
    "    num = int(input(\"Enter a number: \"))\n",
    "    if num > 0:\n",
    "        return 'Number is positive'\n",
    "    elif num < 0:\n",
    "        return 'Number is negative'\n",
    "    else:\n",
    "        return 'Number equal to 0'\n",
    "    \n",
    "check_num()"
   ]
  }
 ],
 "metadata": {
  "kernelspec": {
   "display_name": "Python 3",
   "language": "python",
   "name": "python3"
  },
  "language_info": {
   "codemirror_mode": {
    "name": "ipython",
    "version": 3
   },
   "file_extension": ".py",
   "mimetype": "text/x-python",
   "name": "python",
   "nbconvert_exporter": "python",
   "pygments_lexer": "ipython3",
   "version": "3.12.3"
  }
 },
 "nbformat": 4,
 "nbformat_minor": 2
}
