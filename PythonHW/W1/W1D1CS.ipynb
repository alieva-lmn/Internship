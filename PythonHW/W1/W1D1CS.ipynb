{
 "cells": [
  {
   "cell_type": "markdown",
   "metadata": {},
   "source": [
    "Create a function called \"addition_2number\" that takes two input numbers from user\n",
    "and returns sum and count of them."
   ]
  },
  {
   "cell_type": "markdown",
   "metadata": {},
   "source": []
  },
  {
   "cell_type": "code",
   "execution_count": 4,
   "metadata": {},
   "outputs": [
    {
     "data": {
      "text/plain": [
       "(7, 2)"
      ]
     },
     "execution_count": 4,
     "metadata": {},
     "output_type": "execute_result"
    }
   ],
   "source": [
    "def addition_2number(num1, num2):\n",
    "    return num1 + num2, 2\n",
    "\n",
    "addition_2number(2, 5)"
   ]
  },
  {
   "cell_type": "markdown",
   "metadata": {},
   "source": [
    "Create a function called \"addition\" that can add two or more numbers till user enters\n",
    "zero and returns answer and count of input numbers in a list."
   ]
  },
  {
   "cell_type": "code",
   "execution_count": 5,
   "metadata": {},
   "outputs": [
    {
     "data": {
      "text/plain": [
       "[11, 3]"
      ]
     },
     "execution_count": 5,
     "metadata": {},
     "output_type": "execute_result"
    }
   ],
   "source": [
    "def addition():\n",
    "    \n",
    "    res = 0\n",
    "    count = 1\n",
    "\n",
    "    while True:\n",
    "        num = int(input(\"Num: \"))\n",
    "        if num == 0:\n",
    "            return [res, count]\n",
    "        else:\n",
    "            res+=num\n",
    "            count+=1\n",
    "            \n",
    "addition()"
   ]
  },
  {
   "cell_type": "markdown",
   "metadata": {},
   "source": [
    "Create a function called \"subtraction\" that can subtract two or more numbers till user\n",
    "enters zero and returns answer and countof input numbers in a list."
   ]
  },
  {
   "cell_type": "code",
   "execution_count": 6,
   "metadata": {},
   "outputs": [
    {
     "data": {
      "text/plain": [
       "[-1, 3]"
      ]
     },
     "execution_count": 6,
     "metadata": {},
     "output_type": "execute_result"
    }
   ],
   "source": [
    "def subtraction():\n",
    "    \n",
    "    count = 1\n",
    "    res = None\n",
    "\n",
    "    while True:\n",
    "        num = int(input(\"Enter a num: \"))\n",
    "        if num == 0:\n",
    "            break\n",
    "        if res is None:\n",
    "            res = num\n",
    "        else:\n",
    "            res -= num\n",
    "        count += 1\n",
    "\n",
    "    if res is None:\n",
    "        res = 0\n",
    "    \n",
    "    return [res, count]\n",
    "            \n",
    "            \n",
    "subtraction()"
   ]
  },
  {
   "cell_type": "markdown",
   "metadata": {},
   "source": [
    "Create a function called \"multiplication\" that can multiply two or more numbers till\n",
    "user enters zero and returns answer and count of input numbers in a list."
   ]
  },
  {
   "cell_type": "code",
   "execution_count": 7,
   "metadata": {},
   "outputs": [
    {
     "data": {
      "text/plain": [
       "[15, 3]"
      ]
     },
     "execution_count": 7,
     "metadata": {},
     "output_type": "execute_result"
    }
   ],
   "source": [
    "def multiplication():\n",
    "    \n",
    "    res = 1\n",
    "    count = 1\n",
    "\n",
    "    while True:\n",
    "        num = int(input(\"Enter a num: \"))\n",
    "        if num == 0:\n",
    "            return [res, count]\n",
    "        else:\n",
    "            res*=num\n",
    "            count+=1\n",
    "            \n",
    "multiplication()"
   ]
  },
  {
   "cell_type": "markdown",
   "metadata": {},
   "source": [
    "Create a function called “average” that returns mean of “addition” function."
   ]
  },
  {
   "cell_type": "code",
   "execution_count": 8,
   "metadata": {},
   "outputs": [
    {
     "name": "stdout",
     "output_type": "stream",
     "text": [
      "Result:  4.0\n"
     ]
    }
   ],
   "source": [
    "def average():\n",
    "    \n",
    "    mylist = addition()\n",
    "    avg = mylist[0]/mylist[1]\n",
    "    print(\"Result: \", avg)\n",
    "            \n",
    "average()"
   ]
  },
  {
   "cell_type": "markdown",
   "metadata": {},
   "source": [
    "Create a simple calculator that asks user to perform operations among created functions."
   ]
  },
  {
   "cell_type": "code",
   "execution_count": 10,
   "metadata": {},
   "outputs": [
    {
     "name": "stdout",
     "output_type": "stream",
     "text": [
      "Please enter:\n",
      "1. '+' for addition\n",
      "2. '-' for subtraction\n",
      "3. '*' for multiplication\n",
      "4. 'avg' for average\n",
      "5. '0' for exit\n",
      "\n",
      "\n"
     ]
    },
    {
     "data": {
      "text/plain": [
       "[3, 3]"
      ]
     },
     "execution_count": 10,
     "metadata": {},
     "output_type": "execute_result"
    }
   ],
   "source": [
    "print(\"Please enter:\\n1. '+' for addition\\n2. '-' for subtraction\\n3. '*' for multiplication\\n4. 'avg' for average\\n5. '0' for exit\\n\\n\")\n",
    "res = input(\"-> \")\n",
    "\n",
    "def calculator():\n",
    "    while True:\n",
    "        if res == '+':\n",
    "            return addition()\n",
    "        elif res == '-':\n",
    "            return subtraction()\n",
    "        elif res == '*':\n",
    "            return multiplication()\n",
    "        elif res == 'avg':\n",
    "            return average()\n",
    "        elif res == 0:\n",
    "            break\n",
    "        else:\n",
    "            print(\"There is no such an option\")\n",
    "            break\n",
    "    \n",
    "calculator()\n"
   ]
  },
  {
   "cell_type": "markdown",
   "metadata": {},
   "source": [
    "Write a Python program to find intersection of two given arrays using lambda."
   ]
  },
  {
   "cell_type": "code",
   "execution_count": 12,
   "metadata": {},
   "outputs": [
    {
     "data": {
      "text/plain": [
       "[2, 3, 4]"
      ]
     },
     "execution_count": 12,
     "metadata": {},
     "output_type": "execute_result"
    }
   ],
   "source": [
    "l1 = [1, 2, 3, 4, 5]\n",
    "l2 = [2, 3, 4]\n",
    "\n",
    "list(filter(lambda i: i in l1,l2))"
   ]
  },
  {
   "cell_type": "markdown",
   "metadata": {},
   "source": [
    "Write a Python program to add two given lists using map and lambda."
   ]
  },
  {
   "cell_type": "code",
   "execution_count": 15,
   "metadata": {},
   "outputs": [
    {
     "data": {
      "text/plain": [
       "[5, 7, 9]"
      ]
     },
     "execution_count": 15,
     "metadata": {},
     "output_type": "execute_result"
    }
   ],
   "source": [
    "mylist1 = [1, 2, 3]\n",
    "mylist2 = [4, 5, 6]\n",
    "\n",
    "list(map(lambda x, y: x+y, mylist1, mylist2))"
   ]
  },
  {
   "cell_type": "markdown",
   "metadata": {},
   "source": [
    "Write a Python program that stores numbers in a list which are divisible by nineteen or\n",
    "thirteen from a given list."
   ]
  },
  {
   "cell_type": "markdown",
   "metadata": {},
   "source": []
  },
  {
   "cell_type": "code",
   "execution_count": 18,
   "metadata": {},
   "outputs": [
    {
     "data": {
      "text/plain": [
       "[13, 19, 26, 39]"
      ]
     },
     "execution_count": 18,
     "metadata": {},
     "output_type": "execute_result"
    }
   ],
   "source": [
    "some_list = [13, 19, 35, 23, 26, 39]\n",
    "new_list = []\n",
    "\n",
    "for i in some_list:\n",
    "    if i % 13 == 0 or i % 19 == 0:\n",
    "        new_list.append(i)\n",
    "\n",
    "new_list\n"
   ]
  }
 ],
 "metadata": {
  "kernelspec": {
   "display_name": "Python 3",
   "language": "python",
   "name": "python3"
  },
  "language_info": {
   "codemirror_mode": {
    "name": "ipython",
    "version": 3
   },
   "file_extension": ".py",
   "mimetype": "text/x-python",
   "name": "python",
   "nbconvert_exporter": "python",
   "pygments_lexer": "ipython3",
   "version": "3.12.3"
  }
 },
 "nbformat": 4,
 "nbformat_minor": 2
}
