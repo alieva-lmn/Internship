{
 "cells": [
  {
   "cell_type": "markdown",
   "metadata": {},
   "source": [
    "#1 Create Car Class that has 3 class attributes: year, mpg and speed."
   ]
  },
  {
   "cell_type": "code",
   "execution_count": 21,
   "metadata": {},
   "outputs": [
    {
     "name": "stdout",
     "output_type": "stream",
     "text": [
      "Year: 1940 \n",
      "Mpg: 29 \n",
      "Speed: 322\n"
     ]
    }
   ],
   "source": [
    "class Car:\n",
    "    year = 0\n",
    "    mpg = 0\n",
    "    speed = 0\n",
    "\n",
    "    def __str__(self): \n",
    "        return(f\"Year: {self.year} \\nMpg: {self.mpg} \\nSpeed: {self.speed}\")\n",
    "\n",
    "\n",
    "car = Car()\n",
    "car.year = 1940\n",
    "car.mpg = 29\n",
    "car.speed = 322\n",
    "\n",
    "print(car)"
   ]
  },
  {
   "cell_type": "markdown",
   "metadata": {},
   "source": [
    "# 2. Create 2 methods for the Car class: \n",
    "# Accelerate and break where the speed of the car changes when this methods are called."
   ]
  },
  {
   "cell_type": "code",
   "execution_count": 23,
   "metadata": {},
   "outputs": [
    {
     "data": {
      "text/plain": [
       "11"
      ]
     },
     "execution_count": 23,
     "metadata": {},
     "output_type": "execute_result"
    }
   ],
   "source": [
    "class Car:\n",
    "    def __init__(self, year, mpg, speed):\n",
    "        self.year = year \n",
    "        self.mpg = mpg\n",
    "        self.speed = speed\n",
    "\n",
    "    def accelerate(self, input_speed):\n",
    "        self.speed = self.speed + input_speed\n",
    "        return self.speed\n",
    "    \n",
    "    def brake(self, input_speed):\n",
    "        self.speed = self.speed - input_speed\n",
    "        return self.speed\n",
    "\n",
    "    def __str__(self): \n",
    "        return(f\"Year: {self.year} \\nMpg: {self.mpg} \\nSpeed: {self.speed}\")\n",
    "\n",
    "\n",
    "car = Car(1996, 16, 8)\n",
    "car.accelerate(5)\n",
    "car.brake(2)"
   ]
  },
  {
   "cell_type": "markdown",
   "metadata": {},
   "source": [
    "# 3. Change all class attributes to instance attributes."
   ]
  },
  {
   "cell_type": "code",
   "execution_count": 29,
   "metadata": {},
   "outputs": [
    {
     "name": "stdout",
     "output_type": "stream",
     "text": [
      "Year: 1996 \n",
      "Mpg: 16 \n",
      "Speed: 8\n"
     ]
    }
   ],
   "source": [
    "class Car:\n",
    "    def __init__(self, year, mpg, speed):\n",
    "        self.year = year \n",
    "        self.mpg = mpg\n",
    "        self.speed = speed\n",
    "\n",
    "    def __str__(self): \n",
    "        return(f\"Year: {self.year} \\nMpg: {self.mpg} \\nSpeed: {self.speed}\")\n",
    "\n",
    "\n",
    "car = Car(1996, 16, 8)\n",
    "print(car)"
   ]
  },
  {
   "cell_type": "markdown",
   "metadata": {},
   "source": [
    "# 4. Create a class vehicle and create inheritance between car and vehicle."
   ]
  },
  {
   "cell_type": "code",
   "execution_count": 31,
   "metadata": {},
   "outputs": [
    {
     "name": "stdout",
     "output_type": "stream",
     "text": [
      "Color: White\n",
      "Model: Camry\n",
      "Make: Toyota\n",
      "Year: 1996\n",
      "Mpg: 16\n",
      "Speed: 8\n"
     ]
    }
   ],
   "source": [
    "class Vehicle:\n",
    "    def __init__(self, color, model, make):\n",
    "        self.color = color\n",
    "        self.model = model\n",
    "        self.make = make\n",
    "\n",
    "class Car(Vehicle):\n",
    "    def __init__(self, color, model, make, year, mpg, speed):\n",
    "        super().__init__(color, model, make)\n",
    "        self.year = year\n",
    "        self.mpg = mpg\n",
    "        self.speed = speed\n",
    "\n",
    "    def accelerate(self, input_speed):\n",
    "        self.speed = self.speed + input_speed\n",
    "        return self.speed\n",
    "    \n",
    "    def brake(self, input_speed):\n",
    "        self.speed = self.speed - input_speed\n",
    "        return self.speed\n",
    "\n",
    "    def __str__(self):\n",
    "        return (f\"Color: {self.color}\\nModel: {self.model}\\nMake: {self.make}\\n\"\n",
    "                f\"Year: {self.year}\\nMpg: {self.mpg}\\nSpeed: {self.speed}\")\n",
    "\n",
    "\n",
    "car = Car(\"White\", \"Camry\", \"Toyota\", 1996, 16, 8)\n",
    "print(car)\n"
   ]
  },
  {
   "cell_type": "markdown",
   "metadata": {},
   "source": [
    "# 5. Create a new class bus which has the same methods as car and inherits from Vehicle."
   ]
  },
  {
   "cell_type": "code",
   "execution_count": 40,
   "metadata": {},
   "outputs": [
    {
     "name": "stdout",
     "output_type": "stream",
     "text": [
      "Color: Black\n",
      "Model: Mercedes\n",
      "Make: GLX\n",
      "Year: 1996\n"
     ]
    }
   ],
   "source": [
    "class Bus(Vehicle):\n",
    "    def __init__(self, color, model, make, capacity):\n",
    "        super().__init__(color, model, make)\n",
    "        self.capacity = capacity\n",
    "    def accelerate(self, input_speed):\n",
    "        self.speed = self.speed + input_speed\n",
    "        return self.speed\n",
    "    \n",
    "    def brake(self, input_speed):\n",
    "        self.speed = self.speed - input_speed\n",
    "        return self.speed\n",
    "\n",
    "    def __str__(self): \n",
    "        return (f\"Color: {self.color}\\nModel: {self.model}\\nMake: {self.make}\\n\"\n",
    "                f\"Year: {self.capacity}\")\n",
    "    \n",
    "bus = Bus('Black', 'Mercedes', 'GLX', 1996)\n",
    "print(bus)"
   ]
  },
  {
   "cell_type": "markdown",
   "metadata": {},
   "source": [
    "# 6. Change some of the instance attributes to the private attributes."
   ]
  },
  {
   "cell_type": "code",
   "execution_count": 38,
   "metadata": {},
   "outputs": [
    {
     "name": "stdout",
     "output_type": "stream",
     "text": [
      "Color: Tabby\n",
      "Breed: N/A\n"
     ]
    }
   ],
   "source": [
    "class Cat:\n",
    "    def __init__(self, color, breed):\n",
    "        self.__color = color \n",
    "        self.breed = breed\n",
    "    def get_color(self):\n",
    "        return self.__color\n",
    "    def set_color(self, color):\n",
    "        self.__color = color \n",
    "    def __str__(self):\n",
    "        return (f\"Color: {self.__color}\\nBreed: {self.breed}\")\n",
    "    \n",
    "\n",
    "cat = Cat('Tabby', 'N/A')\n",
    "print(cat)\n",
    "\n",
    "    \n"
   ]
  }
 ],
 "metadata": {
  "kernelspec": {
   "display_name": "Python 3",
   "language": "python",
   "name": "python3"
  },
  "language_info": {
   "codemirror_mode": {
    "name": "ipython",
    "version": 3
   },
   "file_extension": ".py",
   "mimetype": "text/x-python",
   "name": "python",
   "nbconvert_exporter": "python",
   "pygments_lexer": "ipython3",
   "version": "3.12.3"
  }
 },
 "nbformat": 4,
 "nbformat_minor": 2
}
