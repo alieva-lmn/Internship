{
 "cells": [
  {
   "cell_type": "markdown",
   "metadata": {},
   "source": [
    "# 1. Create a Vehicle class with maxspeed and color instance attributes."
   ]
  },
  {
   "cell_type": "code",
   "execution_count": 3,
   "metadata": {},
   "outputs": [
    {
     "name": "stdout",
     "output_type": "stream",
     "text": [
      "330\n",
      "Pink\n"
     ]
    }
   ],
   "source": [
    "class Vehicle:\n",
    "    def __init__(self, maxspeed, color):\n",
    "        self.maxspeed = maxspeed\n",
    "        self.color = color\n",
    "\n",
    "vehicle = Vehicle(330, 'Pink')\n",
    "\n",
    "print(vehicle.maxspeed)\n",
    "print(vehicle.color)"
   ]
  },
  {
   "cell_type": "markdown",
   "metadata": {},
   "source": [
    "# 2. Create new method which prints maxspeed and the color for the given vehicle."
   ]
  },
  {
   "cell_type": "code",
   "execution_count": 18,
   "metadata": {},
   "outputs": [
    {
     "name": "stdout",
     "output_type": "stream",
     "text": [
      "Maxspeed: 330\n",
      "Color: Pink\n"
     ]
    }
   ],
   "source": [
    "class Vehicle:\n",
    "    def __init__(self, maxspeed, color):\n",
    "        self.maxspeed = maxspeed\n",
    "        self.color = color\n",
    "    def __str__(self):\n",
    "        return f'Maxspeed: {self.maxspeed}\\nColor: {self.color}'\n",
    "    def Drive(self):\n",
    "        print(\"Vehicle method drive\")\n",
    "\n",
    "vehicle = Vehicle(330, 'Pink')\n",
    "print(vehicle)"
   ]
  },
  {
   "cell_type": "markdown",
   "metadata": {},
   "source": [
    "# 3. Create child class Car that will inherit all of the variables and methods of the Vehicle class."
   ]
  },
  {
   "cell_type": "code",
   "execution_count": 20,
   "metadata": {},
   "outputs": [
    {
     "name": "stdout",
     "output_type": "stream",
     "text": [
      "Vehicle method drive\n"
     ]
    }
   ],
   "source": [
    "class Car(Vehicle):\n",
    "    def __init__(self, maxspeed, color, model):\n",
    "        super().__init__(maxspeed, color)\n",
    "        self.model = model\n",
    "\n",
    "car = Car(120, 'White', 'Camry')\n",
    "car.Drive()\n"
   ]
  },
  {
   "cell_type": "markdown",
   "metadata": {},
   "source": [
    "# 4. Define property that should have the same value for every class instance. Example : Every Vehicle should be white."
   ]
  },
  {
   "cell_type": "code",
   "execution_count": 26,
   "metadata": {},
   "outputs": [
    {
     "data": {
      "text/plain": [
       "'Azerbaijani'"
      ]
     },
     "execution_count": 26,
     "metadata": {},
     "output_type": "execute_result"
    }
   ],
   "source": [
    "class Employee:    \n",
    "    def __init__(self, name, age):\n",
    "        self.name = name\n",
    "        self.age = age\n",
    "        self.nationality = 'Azerbaijani'\n",
    "    \n",
    "    def get_nationality(self):\n",
    "        return self.nationality\n",
    "    \n",
    "    def __str__(self):\n",
    "        return f'Name: {self.name}\\nAge: {self.age}\\nNationality: {self.nationality}'\n",
    "\n",
    "e1 = Employee('Laman', 27)\n",
    "e1.get_nationality()\n"
   ]
  },
  {
   "cell_type": "markdown",
   "metadata": {},
   "source": [
    "# 5. Create a Train child class that inherits from the Vehicle class. The default fare of any vehicle is seating capacity * 35. If Vehicle is Train instance, we need to add an extra 10% on full fare as a maintenance charge."
   ]
  },
  {
   "cell_type": "code",
   "execution_count": 27,
   "metadata": {},
   "outputs": [
    {
     "name": "stdout",
     "output_type": "stream",
     "text": [
      "Seating Capacity: 200\n",
      "Color: Pink\n",
      "Total fare: $7700.0\n"
     ]
    }
   ],
   "source": [
    "class Vehicle:\n",
    "     def __init__(self, seating_capacity, color):\n",
    "        self.seating_capacity = seating_capacity\n",
    "        self.color = color\n",
    "     def calculate_fare(self):\n",
    "        fare = self.seating_capacity * 35\n",
    "        return fare\n",
    "     def __str__(self):\n",
    "        return f'Seating Capacity: {self.seating_capacity}\\nColor: {self.color}'\n",
    "\n",
    "class Train(Vehicle):\n",
    "    def __init__(self, seating_capacity, color):\n",
    "        super().__init__(seating_capacity, color)\n",
    "\n",
    "    def calculate_fare(self):\n",
    "        base_fare = super().calculate_fare()\n",
    "        maintenance_charge = base_fare * 0.10\n",
    "        total_fare = base_fare + maintenance_charge\n",
    "        return total_fare\n",
    "\n",
    "train = Train(200, 'Pink')\n",
    "print(train)\n",
    "\n",
    "fare = train.calculate_fare()\n",
    "print(f\"Total fare: ${fare}\")\n",
    "    "
   ]
  },
  {
   "cell_type": "markdown",
   "metadata": {},
   "source": [
    "# 6. Determine which class a given car and train object belongs to."
   ]
  },
  {
   "cell_type": "code",
   "execution_count": 29,
   "metadata": {},
   "outputs": [
    {
     "name": "stdout",
     "output_type": "stream",
     "text": [
      "<class '__main__.Car'>\n",
      "<class '__main__.Train'>\n"
     ]
    }
   ],
   "source": [
    "print(type(car))\n",
    "print(type(train))"
   ]
  }
 ],
 "metadata": {
  "kernelspec": {
   "display_name": "Python 3",
   "language": "python",
   "name": "python3"
  },
  "language_info": {
   "codemirror_mode": {
    "name": "ipython",
    "version": 3
   },
   "file_extension": ".py",
   "mimetype": "text/x-python",
   "name": "python",
   "nbconvert_exporter": "python",
   "pygments_lexer": "ipython3",
   "version": "3.12.3"
  }
 },
 "nbformat": 4,
 "nbformat_minor": 2
}
